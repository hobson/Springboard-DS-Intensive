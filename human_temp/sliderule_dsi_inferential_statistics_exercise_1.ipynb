{
 "cells": [
  {
   "cell_type": "markdown",
   "metadata": {},
   "source": [
    "# What is the True Normal Human Body Temperature? \n",
    "\n",
    "#### Background\n",
    "\n",
    "The mean normal body temperature was held to be 37$^{\\circ}$C or 98.6$^{\\circ}$F for more than 120 years since it was first conceptualized and reported by Carl Wunderlich in a famous 1868 book. But, is this value statistically correct?"
   ]
  },
  {
   "cell_type": "markdown",
   "metadata": {},
   "source": [
    "<div class=\"span5 alert alert-info\">\n",
    "<h3>Exercises</h3>\n",
    "\n",
    "<p>In this exercise, you will analyze a dataset of human body temperatures and employ the concepts of hypothesis testing, confidence intervals, and statistical significance.</p>\n",
    "\n",
    "<p>Answer the following questions <b>in this notebook below and submit to your Github account</b>.</p> \n",
    "\n",
    "<ol>\n",
    "<li>  Is the distribution of body temperatures normal? \n",
    "    <ul>\n",
    "    <li> Although this is not a requirement for CLT to hold (read CLT carefully), it gives us some peace of mind that the population may also be normally distributed if we assume that this sample is representative of the population.\n",
    "    </ul>\n",
    "<li>  Is the sample size large? Are the observations independent?\n",
    "    <ul>\n",
    "    <li> Remember that this is a condition for the CLT, and hence the statistical tests we are using, to apply.\n",
    "    </ul>\n",
    "<li>  Is the true population mean really 98.6 degrees F?\n",
    "    <ul>\n",
    "    <li> Would you use a one-sample or two-sample test? Why?\n",
    "    <li> In this situation, is it appropriate to use the $t$ or $z$ statistic? \n",
    "    <li> Now try using the other test. How is the result be different? Why?\n",
    "    </ul>\n",
    "<li>  At what temperature should we consider someone's temperature to be \"abnormal\"?\n",
    "    <ul>\n",
    "    <li> Start by computing the margin of error and confidence interval.\n",
    "    </ul>\n",
    "<li>  Is there a significant difference between males and females in normal temperature?\n",
    "    <ul>\n",
    "    <li> What test did you use and why?\n",
    "    <li> Write a story with your conclusion in the context of the original problem.\n",
    "    </ul>\n",
    "</ol>\n",
    "\n",
    "You can include written notes in notebook cells using Markdown: \n",
    "   - In the control panel at the top, choose Cell > Cell Type > Markdown\n",
    "   - Markdown syntax: http://nestacms.com/docs/creating-content/markdown-cheat-sheet\n",
    "\n",
    "#### Resources\n",
    "\n",
    "+ Information and data sources: http://www.amstat.org/publications/jse/datasets/normtemp.txt, http://www.amstat.org/publications/jse/jse_data_archive.htm\n",
    "+ Markdown syntax: http://nestacms.com/docs/creating-content/markdown-cheat-sheet\n",
    "\n",
    "****\n",
    "</div>"
   ]
  },
  {
   "cell_type": "code",
   "execution_count": 1,
   "metadata": {
    "collapsed": true
   },
   "outputs": [],
   "source": [
    "import pandas as pd\n",
    "\n",
    "df = pd.read_csv('data/human_body_temperature.csv')"
   ]
  },
  {
   "cell_type": "code",
   "execution_count": 2,
   "metadata": {
    "collapsed": true
   },
   "outputs": [],
   "source": [
    "import scipy.stats as stats\n",
    "import matplotlib.pyplot as plt"
   ]
  },
  {
   "cell_type": "code",
   "execution_count": 3,
   "metadata": {
    "collapsed": false
   },
   "outputs": [
    {
     "data": {
      "text/html": [
       "<div>\n",
       "<table border=\"1\" class=\"dataframe\">\n",
       "  <thead>\n",
       "    <tr style=\"text-align: right;\">\n",
       "      <th></th>\n",
       "      <th>temperature</th>\n",
       "      <th>gender</th>\n",
       "      <th>heart_rate</th>\n",
       "    </tr>\n",
       "  </thead>\n",
       "  <tbody>\n",
       "    <tr>\n",
       "      <th>125</th>\n",
       "      <td>96.3</td>\n",
       "      <td>M</td>\n",
       "      <td>70.0</td>\n",
       "    </tr>\n",
       "    <tr>\n",
       "      <th>126</th>\n",
       "      <td>97.7</td>\n",
       "      <td>M</td>\n",
       "      <td>77.0</td>\n",
       "    </tr>\n",
       "    <tr>\n",
       "      <th>127</th>\n",
       "      <td>98.2</td>\n",
       "      <td>F</td>\n",
       "      <td>73.0</td>\n",
       "    </tr>\n",
       "    <tr>\n",
       "      <th>128</th>\n",
       "      <td>97.9</td>\n",
       "      <td>M</td>\n",
       "      <td>72.0</td>\n",
       "    </tr>\n",
       "    <tr>\n",
       "      <th>129</th>\n",
       "      <td>98.7</td>\n",
       "      <td>F</td>\n",
       "      <td>59.0</td>\n",
       "    </tr>\n",
       "  </tbody>\n",
       "</table>\n",
       "</div>"
      ],
      "text/plain": [
       "     temperature gender  heart_rate\n",
       "125         96.3      M        70.0\n",
       "126         97.7      M        77.0\n",
       "127         98.2      F        73.0\n",
       "128         97.9      M        72.0\n",
       "129         98.7      F        59.0"
      ]
     },
     "execution_count": 3,
     "metadata": {},
     "output_type": "execute_result"
    }
   ],
   "source": [
    "# First look at dataframe\n",
    "df.tail()"
   ]
  },
  {
   "cell_type": "markdown",
   "metadata": {},
   "source": [
    "### Is data normal?\n",
    "Before testing the data for normality we summarize and visualize the data."
   ]
  },
  {
   "cell_type": "code",
   "execution_count": 4,
   "metadata": {
    "collapsed": false
   },
   "outputs": [
    {
     "name": "stdout",
     "output_type": "stream",
     "text": [
      "Mean:  98.24923076923078\n",
      "Standard deviation:  0.7331831580389454\n"
     ]
    }
   ],
   "source": [
    "x = df.temperature\n",
    "print('Mean: ',x.mean())\n",
    "print('Standard deviation: ', x.std())\n",
    "#stats.describe(x)"
   ]
  },
  {
   "cell_type": "code",
   "execution_count": 5,
   "metadata": {
    "collapsed": false
   },
   "outputs": [
    {
     "data": {
      "image/png": "[encoded data removed]",
      "text/plain": [
       "<matplotlib.figure.Figure at 0x5d642907f0>"
      ]
     },
     "metadata": {},
     "output_type": "display_data"
    }
   ],
   "source": [
    "# visualizing with histogram\n",
    "plt.hist(x, bins=14, range=[96,101.2])\n",
    "plt.xlabel('Temperature (F)')\n",
    "plt.title('Human Body Temperature')\n",
    "plt.show()"
   ]
  },
  {
   "cell_type": "markdown",
   "metadata": {},
   "source": [
    "The graph hints at normality but does not allow us to conclude so, as it shows a thicker left tail. We use instead the _normaltest_ function from the scipy.stats library to run a Chi-square test."
   ]
  },
  {
   "cell_type": "code",
   "execution_count": 6,
   "metadata": {
    "collapsed": false
   },
   "outputs": [
    {
     "data": {
      "text/plain": [
       "NormaltestResult(statistic=2.7038014333192031, pvalue=0.2587479863488254)"
      ]
     },
     "execution_count": 6,
     "metadata": {},
     "output_type": "execute_result"
    }
   ],
   "source": [
    "# testing the data for normality\n",
    "stats.normaltest(x)"
   ]
  },
  {
   "cell_type": "markdown",
   "metadata": {},
   "source": [
    "Normaltest returned a Chi-Square statistics of 2.7 with a p-value of roughly .26 which indicates that the data seems to be approximately normally distributed. This implies that the sampling distribution can also be considered normally distributed, regardless of the sample size. \n",
    "In addition, here we have a large sample size of 130 values and the values are independent, as one person's body temperature will not affect another person's body temperature. All conditions are satisfied to apply a one-sample test."
   ]
  },
  {
   "cell_type": "markdown",
   "metadata": {},
   "source": [
    "### One-Sample Hypothesis Test\n",
    "Our Null Hypothesis will be that human body temperature is 98.6 degrees Fahreneit, while the alternative hypothesis will be that human body temperature is different than 98.6 degrees Fahrenheit. We will employ a two-tailed hypothesis test, using Student's t-distribution, as we are not given the population standard deviation.\n",
    "\n",
    "For the test we will use the scipy.stats function stats.ttest_1samp which returns the test statistics and the p-value for a two-tailed test."
   ]
  },
  {
   "cell_type": "code",
   "execution_count": 7,
   "metadata": {
    "collapsed": false
   },
   "outputs": [
    {
     "data": {
      "text/plain": [
       "Ttest_1sampResult(statistic=-5.4548232923645195, pvalue=2.4106320415561276e-07)"
      ]
     },
     "execution_count": 7,
     "metadata": {},
     "output_type": "execute_result"
    }
   ],
   "source": [
    "# two-tailed t-test\n",
    "stats.ttest_1samp(x, 98.6)"
   ]
  },
  {
   "cell_type": "markdown",
   "metadata": {},
   "source": [
    "The p-value here is extremely small, roughly 0.0000002 which indicates strongly that the human body temperature is not 98.6 but it is different. Given the small p-value and the large sample size the z-test will provide similar results."
   ]
  },
  {
   "cell_type": "code",
   "execution_count": 8,
   "metadata": {
    "collapsed": false
   },
   "outputs": [
    {
     "data": {
      "text/plain": [
       "2.4513998094608412e-08"
      ]
     },
     "execution_count": 8,
     "metadata": {},
     "output_type": "execute_result"
    }
   ],
   "source": [
    "# computing the p-value of the z-test using the statistic value found from t-test\n",
    "stats.norm.cdf(-5.4548)"
   ]
  },
  {
   "cell_type": "markdown",
   "metadata": {},
   "source": [
    "The p-value from the z-test is even smaller than that from the t-test. Such result is expected as tails in the t-distribution are \"fatter\".\n",
    "\n",
    "### Abnormal temperatures\n",
    "We will consider a temperature abnormal if it has less than (arbitrarily) 5% chance of happening when the temperature considered \"normal\" is 98.6."
   ]
  },
  {
   "cell_type": "code",
   "execution_count": 9,
   "metadata": {
    "collapsed": false
   },
   "outputs": [
    {
     "name": "stdout",
     "output_type": "stream",
     "text": [
      "Margin of error:  1.45062083491\n",
      "95% confidence interval: (96.798609934325754, 99.699851604135802)\n"
     ]
    }
   ],
   "source": [
    "# using stats.norm function and approximating the populatio standard deviation with the sample standard deviation\n",
    "t_score = stats.t.ppf(.975, len(x)-1)\n",
    "margin_of_error = t_score*x.std()\n",
    "print('Margin of error: ',margin_of_error)\n",
    "confidence_interval = stats.t.interval(.95, len(x)-1, loc=x.mean(), scale=x.std())\n",
    "print('95% confidence interval:', confidence_interval)"
   ]
  },
  {
   "cell_type": "markdown",
   "metadata": {},
   "source": [
    "Given our 95% confidence interval we would deem abnormal any value lower than 96.8F or higher than 99.7F.\n",
    "\n",
    "### Gender difference?"
   ]
  },
  {
   "cell_type": "code",
   "execution_count": 10,
   "metadata": {
    "collapsed": false
   },
   "outputs": [
    {
     "name": "stdout",
     "output_type": "stream",
     "text": [
      "Values accounted for:  130  out of  130\n"
     ]
    }
   ],
   "source": [
    "# separate male and female readings\n",
    "male_sample = df.temperature[df.gender=='M']\n",
    "female_sample = df.temperature[df.gender=='F']\n",
    "# checking that all values are accounted for\n",
    "print('Values accounted for: ', len(male_sample)+len(female_sample),' out of ', len(df.temperature))"
   ]
  },
  {
   "cell_type": "markdown",
   "metadata": {},
   "source": [
    "To test for any difference in temperature we will use a two-sample t-test. First, though, we compute mean and standard deviation of the two samples."
   ]
  },
  {
   "cell_type": "code",
   "execution_count": 11,
   "metadata": {
    "collapsed": false
   },
   "outputs": [
    {
     "name": "stdout",
     "output_type": "stream",
     "text": [
      "Males: mean= 98.1046153846154  standard deviation= 0.6987557623265908\n",
      "Females: mean= 98.39384615384613  standard deviation= 0.7434877527313665\n"
     ]
    }
   ],
   "source": [
    "print('Males: mean=',male_sample.mean(),' standard deviation=', male_sample.std())\n",
    "print('Females: mean=',female_sample.mean(),' standard deviation=', female_sample.std())"
   ]
  },
  {
   "cell_type": "markdown",
   "metadata": {},
   "source": [
    "There seem to be a small difference in temperatures, where women temperatures are higher by about 0.3 degrees Fahrenheit."
   ]
  },
  {
   "cell_type": "code",
   "execution_count": 12,
   "metadata": {
    "collapsed": false
   },
   "outputs": [
    {
     "data": {
      "text/plain": [
       "Ttest_indResult(statistic=-2.2854345381656103, pvalue=0.023931883122395609)"
      ]
     },
     "execution_count": 12,
     "metadata": {},
     "output_type": "execute_result"
    }
   ],
   "source": [
    "stats.ttest_ind(male_sample, female_sample)"
   ]
  },
  {
   "cell_type": "markdown",
   "metadata": {},
   "source": [
    "Surprisingly, the test indicates that the difference in temperatures between genders is significant if compared to the commonly used 5% significance level. Looking back at the histogram of the temperatures we can see that there appear to be three values isolated from the rest, those higher than 99.7F. We will repeat the analysis excluding these _abnormal_ values. For completeness we will also take out _abnormally_ low values as well, defined by being less than 96.8F.\n",
    "\n",
    "We notice that while the _abnormally_ low values are equally distributed the _abnormally_ high are not."
   ]
  },
  {
   "cell_type": "code",
   "execution_count": 13,
   "metadata": {
    "collapsed": false
   },
   "outputs": [
    {
     "data": {
      "text/plain": [
       "11     F\n",
       "39     F\n",
       "105    M\n",
       "125    M\n",
       "Name: gender, dtype: object"
      ]
     },
     "execution_count": 13,
     "metadata": {},
     "output_type": "execute_result"
    }
   ],
   "source": [
    "df.gender[df.temperature < 96.8]"
   ]
  },
  {
   "cell_type": "code",
   "execution_count": 14,
   "metadata": {
    "collapsed": false
   },
   "outputs": [
    {
     "data": {
      "text/plain": [
       "91     F\n",
       "96     F\n",
       "116    F\n",
       "Name: gender, dtype: object"
      ]
     },
     "execution_count": 14,
     "metadata": {},
     "output_type": "execute_result"
    }
   ],
   "source": [
    "df.gender[df.temperature > 99.7]"
   ]
  },
  {
   "cell_type": "code",
   "execution_count": 15,
   "metadata": {
    "collapsed": false
   },
   "outputs": [],
   "source": [
    "# excluding abnormal values\n",
    "a = df[(df.temperature >= 96.8) & (df.temperature <= 99.7)]"
   ]
  },
  {
   "cell_type": "code",
   "execution_count": 16,
   "metadata": {
    "collapsed": false
   },
   "outputs": [
    {
     "name": "stdout",
     "output_type": "stream",
     "text": [
      "63\n",
      "60\n"
     ]
    }
   ],
   "source": [
    "# separating males and females\n",
    "male = a.temperature[a.gender=='M']\n",
    "print(len(male))\n",
    "female = a.temperature[a.gender=='F']\n",
    "print(len(female))"
   ]
  },
  {
   "cell_type": "code",
   "execution_count": 17,
   "metadata": {
    "collapsed": false
   },
   "outputs": [
    {
     "name": "stdout",
     "output_type": "stream",
     "text": [
      "Males:  98.15555555555558  Female:  98.3633333333333\n"
     ]
    }
   ],
   "source": [
    "# comparing means among genders\n",
    "print('Males: ', male.mean(),' Female: ', female.mean())"
   ]
  },
  {
   "cell_type": "code",
   "execution_count": 18,
   "metadata": {
    "collapsed": false
   },
   "outputs": [
    {
     "data": {
      "text/plain": [
       "Ttest_indResult(statistic=-1.9167691319321167, pvalue=0.057625398419600696)"
      ]
     },
     "execution_count": 18,
     "metadata": {},
     "output_type": "execute_result"
    }
   ],
   "source": [
    "# test\n",
    "stats.ttest_ind(male, female)"
   ]
  },
  {
   "cell_type": "markdown",
   "metadata": {},
   "source": [
    "After removing abnormal values and in particular the three abnormally high female values the difference between the means has decreased to about 0.2F and at 5% it is not significant anymore. There might be many causes as to why this has happened, a plausible hypothesis could be that during the menstrual period women temperatures rise, and in some cases _abnormally_, thus lifting the average temperature up to a level that shows statistical significance at the 5% level."
   ]
  },
  {
   "cell_type": "markdown",
   "metadata": {},
   "source": [
    "### Conclusion\n",
    "This project looked at human body temperature to determine whether the mean normal body temperature is 98.6 degrees Fahrenheit. The sample data consists of reading from 130 individuals in equal amounts males and females. A one-sample t-test is conducted on the sample mean of 98.25F, thus showing a 0.35F difference with the assumed normal of 98.6F. The test results in a p-value of 2E-07, a very small value, showing that such difference cannot be due to randomness of the sample. It appears that temperatures are indeed different than 98.6, in particular they seem lower than 98.6F, based on the sample result.\n",
    "\n",
    "The histogram below helps us notice that more values are lower than 98.6F rather than higher."
   ]
  },
  {
   "cell_type": "code",
   "execution_count": 19,
   "metadata": {
    "collapsed": false
   },
   "outputs": [
    {
     "data": {
      "image/png": "[encoded data removed]",
      "text/plain": [
       "<matplotlib.figure.Figure at 0x5d643338d0>"
      ]
     },
     "metadata": {},
     "output_type": "display_data"
    }
   ],
   "source": [
    "# visualizing with histogram\n",
    "plt.hist(x, bins=14, range=[96,101.2])#, normed='True')\n",
    "plt.axvline(98.6, linewidth=2, color='r')\n",
    "plt.text(98.4,-2,'98.6')\n",
    "plt.xlabel('Temperature (F)')\n",
    "plt.title('Human Body Temperature')\n",
    "plt.show()"
   ]
  },
  {
   "cell_type": "markdown",
   "metadata": {},
   "source": [
    "Such histogram, seems to also indicate that the data is somewhat bimodal. Further analysis of the values divided by gender confirms that the two groups have different average temperatures, contributing to the bimodal appearence of the graph. The difference between the means is about 0.3 degrees Fahrenheit (98.4F for females, 98.1F for males) and the corresponding p-value is 0.024. This means that there is a 2.4% chance that such difference is due to randomness of the sample, thus making such difference statistically significant.\n",
    "\n",
    "A computation of the 95% confidence interval (96.80, 99.70) identifies values which are abnormal: those residing outside of this interval. The 3 _abnormally_ high values in the sample are of females, which suggests that this might be more than a coincidence. A second analysis which excludes the abnormal values, high and low, fails to show significance. This should caution us in accepting the prior conclusion and calls for a second analysis, which should include more data to determine if the difference in temperatures really exists.\n"
   ]
  },
  {
   "cell_type": "code",
   "execution_count": null,
   "metadata": {
    "collapsed": true
   },
   "outputs": [],
   "source": []
  },
  {
   "cell_type": "code",
   "execution_count": null,
   "metadata": {
    "collapsed": true
   },
   "outputs": [],
   "source": []
  },
  {
   "cell_type": "code",
   "execution_count": null,
   "metadata": {
    "collapsed": true
   },
   "outputs": [],
   "source": []
  },
  {
   "cell_type": "code",
   "execution_count": null,
   "metadata": {
    "collapsed": true
   },
   "outputs": [],
   "source": []
  },
  {
   "cell_type": "code",
   "execution_count": null,
   "metadata": {
    "collapsed": true
   },
   "outputs": [],
   "source": []
  }
 ],
 "metadata": {
  "kernelspec": {
   "display_name": "Python 3",
   "language": "python",
   "name": "python3"
  },
  "language_info": {
   "codemirror_mode": {
    "name": "ipython",
    "version": 3
   },
   "file_extension": ".py",
   "mimetype": "text/x-python",
   "name": "python",
   "nbconvert_exporter": "python",
   "pygments_lexer": "ipython3",
   "version": "3.6.0"
  }
 },
 "nbformat": 4,
 "nbformat_minor": 0
}
